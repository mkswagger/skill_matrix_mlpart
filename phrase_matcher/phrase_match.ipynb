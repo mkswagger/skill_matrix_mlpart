{
  "nbformat": 4,
  "nbformat_minor": 0,
  "metadata": {
    "colab": {
      "provenance": []
    },
    "kernelspec": {
      "name": "python3",
      "display_name": "Python 3"
    },
    "language_info": {
      "name": "python"
    },
    "gpuClass": "standard"
  },
  "cells": [
    {
      "cell_type": "code",
      "execution_count": 4,
      "metadata": {
        "colab": {
          "base_uri": "https://localhost:8080/"
        },
        "id": "EQK3luWt-g4q",
        "outputId": "04324041-c921-4799-d980-c9892452cf64"
      },
      "outputs": [
        {
          "output_type": "stream",
          "name": "stdout",
          "text": [
            "['frontend', 'html', 'css', 'javascript', 'react', 'angular', 'vue', 'bootstrap']\n",
            "['candidate_018.pdf']\n"
          ]
        }
      ],
      "source": [
        "import os\n",
        "from sklearn.feature_extraction.text import CountVectorizer\n",
        "from sklearn.naive_bayes import MultinomialNB\n",
        "\n",
        "# Collect and preprocess data\n",
        "data = []\n",
        "labels = []\n",
        "path = '/content/drive/MyDrive/resume_parser/pt2'\n",
        "keywords = [['backend', 'python', 'django', 'flask', 'sql', 'rest api', 'aws', 'docker'],\n",
        "            ['frontend', 'html', 'css', 'javascript', 'react', 'angular', 'vue', 'bootstrap'],\n",
        "            ['machine learning', 'python', 'tensorflow', 'pytorch', 'scikit-learn', 'data analysis', 'natural language processing', 'computer vision']]\n",
        "\n",
        "\n",
        "for filename in os.listdir(path):\n",
        "    with open(os.path.join(path, filename), 'rb') as f:\n",
        "        text = f.read().decode('utf-8', errors='ignore')\n",
        "        text = text.lower()\n",
        "        text = ''.join(e for e in text if e.isalnum() or e.isspace())\n",
        "        data.append(text)\n",
        "        label = -1\n",
        "        for i, keyword_list in enumerate(keywords):\n",
        "            for keyword in keyword_list:\n",
        "                if keyword in text:\n",
        "                    label = i\n",
        "                    break\n",
        "            if label != -1:\n",
        "                break\n",
        "        labels.append(label)\n",
        "\n",
        "# Train the model\n",
        "vectorizer = CountVectorizer()\n",
        "X = vectorizer.fit_transform(data)\n",
        "clf = MultinomialNB()\n",
        "clf.fit(X, labels)\n",
        "\n",
        "# Test the model\n",
        "test_data = ['some text containing the backend keyword']\n",
        "test_X = vectorizer.transform(test_data)\n",
        "prediction = clf.predict(test_X)\n",
        "print(keywords[prediction[0]])\n",
        "\n",
        "# Use the model\n",
        "search_data = ['typescript']\n",
        "search_X = vectorizer.transform(search_data)\n",
        "search_prediction = clf.predict(search_X)\n",
        "results = [filename for i, filename in enumerate(os.listdir(path)) if i == search_prediction[0] and search_prediction[0] != -1]\n",
        "print(results)\n",
        "\n",
        "\n"
      ]
    },
    {
      "cell_type": "code",
      "source": [
        "import locale\n",
        "# print(locale.getpreferredencoding())\n",
        "def getpreferredencoding(do_setlocale = True):\n",
        "    return \"UTF-8\"\n",
        "locale.getpreferredencoding = getpreferredencoding\n",
        "\n"
      ],
      "metadata": {
        "id": "CtJbM5c8_K2Q"
      },
      "execution_count": 1,
      "outputs": []
    },
    {
      "cell_type": "code",
      "source": [
        "from google.colab import drive\n",
        "drive.mount('/content/drive')"
      ],
      "metadata": {
        "colab": {
          "base_uri": "https://localhost:8080/"
        },
        "id": "CkzdEsUn-iJJ",
        "outputId": "e3fd3168-ed89-45dc-de93-d726c8979cae"
      },
      "execution_count": 2,
      "outputs": [
        {
          "output_type": "stream",
          "name": "stdout",
          "text": [
            "Mounted at /content/drive\n"
          ]
        }
      ]
    }
  ]
}